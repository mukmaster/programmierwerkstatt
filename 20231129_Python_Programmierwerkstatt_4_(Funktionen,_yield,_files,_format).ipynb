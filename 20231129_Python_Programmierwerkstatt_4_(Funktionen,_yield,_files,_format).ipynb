{
  "nbformat": 4,
  "nbformat_minor": 0,
  "metadata": {
    "colab": {
      "provenance": [],
      "authorship_tag": "ABX9TyMIQ8ADW3M4q+UvjMB+Zodd",
      "include_colab_link": true
    },
    "kernelspec": {
      "name": "python3",
      "display_name": "Python 3"
    },
    "language_info": {
      "name": "python"
    }
  },
  "cells": [
    {
      "cell_type": "markdown",
      "metadata": {
        "id": "view-in-github",
        "colab_type": "text"
      },
      "source": [
        "<a href=\"https://colab.research.google.com/github/mukmaster/python23/blob/main/20231129_Python_Programmierwerkstatt_4_(Funktionen%2C_yield%2C_files%2C_format).ipynb\" target=\"_parent\"><img src=\"https://colab.research.google.com/assets/colab-badge.svg\" alt=\"Open In Colab\"/></a>"
      ]
    },
    {
      "cell_type": "markdown",
      "source": [
        "# Python-Programmierwerkstatt (29.11.2023)\n"
      ],
      "metadata": {
        "id": "NtfTJxhF4DRI"
      }
    },
    {
      "cell_type": "markdown",
      "source": [
        "Kurzer Rückblick: Funktionen in Python und yield"
      ],
      "metadata": {
        "id": "nKoCbcdY5C2j"
      }
    },
    {
      "cell_type": "code",
      "source": [
        "# starter - zweiter Versuch\n",
        "def starter():\n",
        "    yield \"Ready\"\n",
        "    yield \"Set\"\n",
        "    yield \"Go\"\n"
      ],
      "metadata": {
        "id": "mt2KH4hI5Adv"
      },
      "execution_count": null,
      "outputs": []
    },
    {
      "cell_type": "code",
      "source": [
        "import random\n",
        "\n",
        "# 1. Versuch: Ganz einfacher Würfel\n",
        "def wuerfel1():\n",
        "    return random.randint(1,6)"
      ],
      "metadata": {
        "id": "BPCdUi7q_pLx"
      },
      "execution_count": null,
      "outputs": []
    },
    {
      "cell_type": "code",
      "source": [
        "wuerfel1()"
      ],
      "metadata": {
        "colab": {
          "base_uri": "https://localhost:8080/"
        },
        "id": "cAb0M9nBDHTh",
        "outputId": "ffcfbf2a-74df-4aba-cd17-9c7046c75957"
      },
      "execution_count": null,
      "outputs": [
        {
          "output_type": "execute_result",
          "data": {
            "text/plain": [
              "3"
            ]
          },
          "metadata": {},
          "execution_count": 31
        }
      ]
    },
    {
      "cell_type": "code",
      "source": [
        "def wuerfel2():\n",
        "    while True:\n",
        "        yield random.randint(1,6)"
      ],
      "metadata": {
        "id": "j95uVt-wDIuK"
      },
      "execution_count": null,
      "outputs": []
    },
    {
      "cell_type": "code",
      "source": [
        "w = wuerfel2()\n",
        "type(w)"
      ],
      "metadata": {
        "colab": {
          "base_uri": "https://localhost:8080/"
        },
        "id": "V8dnAuHcE50C",
        "outputId": "a103da66-f007-4797-deb2-0c1465f95af4"
      },
      "execution_count": null,
      "outputs": [
        {
          "output_type": "execute_result",
          "data": {
            "text/plain": [
              "generator"
            ]
          },
          "metadata": {},
          "execution_count": 33
        }
      ]
    },
    {
      "cell_type": "code",
      "source": [
        "next(w)"
      ],
      "metadata": {
        "colab": {
          "base_uri": "https://localhost:8080/"
        },
        "id": "MQIXXhXyE_1p",
        "outputId": "7eba7baa-3761-4fc5-cff4-1aef48d02def"
      },
      "execution_count": null,
      "outputs": [
        {
          "output_type": "execute_result",
          "data": {
            "text/plain": [
              "3"
            ]
          },
          "metadata": {},
          "execution_count": 34
        }
      ]
    },
    {
      "cell_type": "code",
      "source": [
        "next(w)"
      ],
      "metadata": {
        "colab": {
          "base_uri": "https://localhost:8080/"
        },
        "id": "bHLMaGF-FEAh",
        "outputId": "8fc54e27-8be6-406a-d4f8-4ddbeb76e2a1"
      },
      "execution_count": null,
      "outputs": [
        {
          "output_type": "execute_result",
          "data": {
            "text/plain": [
              "6"
            ]
          },
          "metadata": {},
          "execution_count": 35
        }
      ]
    },
    {
      "cell_type": "code",
      "source": [
        "def wuerfel():\n",
        "    zaehler = 0\n",
        "    wuerfe = [0,0,0,0,0,0]\n",
        "    while True:\n",
        "        wurf = random.randint(1,8)\n",
        "        if wurf>6:\n",
        "          wurf = 6\n",
        "        wuerfe[wurf-1] += 1\n",
        "        zaehler += 1\n",
        "        if zaehler%10==0:\n",
        "            print(\"Statistik nach \", zaehler, \" Würfen: \", wuerfe)\n",
        "        yield wurf"
      ],
      "metadata": {
        "id": "1lwPC8vyFFTi"
      },
      "execution_count": null,
      "outputs": []
    },
    {
      "cell_type": "code",
      "source": [
        "w = wuerfel()\n",
        "for i in range(1,1001):\n",
        "  next(w)"
      ],
      "metadata": {
        "id": "O-i7fc_SGBw1"
      },
      "execution_count": null,
      "outputs": []
    },
    {
      "cell_type": "markdown",
      "source": [
        "## Ausgaben formatieren"
      ],
      "metadata": {
        "id": "4MpO502_KGDE"
      }
    },
    {
      "cell_type": "code",
      "source": [
        "# eine Zeile ausgeben\n",
        "print(\"Der Sinn des Lebens ist\", 6*7, \", behauptet Douglas Adams.\")"
      ],
      "metadata": {
        "colab": {
          "base_uri": "https://localhost:8080/"
        },
        "id": "SkbHjcDRGRhU",
        "outputId": "d57bdeb1-95ca-491d-adc5-6488db34bdb9"
      },
      "execution_count": null,
      "outputs": [
        {
          "output_type": "stream",
          "name": "stdout",
          "text": [
            "Der Sinn des Lebens ist 42 , behauptet Douglas Adams.\n"
          ]
        }
      ]
    },
    {
      "cell_type": "code",
      "source": [
        "# Wir schreiben etwas in unser Logbuch (=Datei)\n",
        "logbuch = open(\"sternlog.txt\",\"w\")  # Datei zum Schreiben öffnen\n",
        "print(\"28.11.2023:\", \"Start des Raumschiffs Enterprise\",file=logbuch)\n",
        "print(\"27.03.1980:\", \"Star Trek: Der Film im Kino\",file=logbuch)\n",
        "logbuch.close()"
      ],
      "metadata": {
        "id": "YAFH3TjtKKX_"
      },
      "execution_count": null,
      "outputs": []
    },
    {
      "cell_type": "code",
      "source": [
        "# Einlesen von Text in eine Variable\n",
        "print(\"Bitte geben Sie Ihren Namen ein\")\n",
        "name = input()\n",
        "print(\"Eingegeben wurde: *\", name,\"*\")"
      ],
      "metadata": {
        "id": "WTA0l-SmLh4S",
        "colab": {
          "base_uri": "https://localhost:8080/"
        },
        "outputId": "030bedba-fbf1-45bc-9080-f41412c77ee8"
      },
      "execution_count": null,
      "outputs": [
        {
          "output_type": "stream",
          "name": "stdout",
          "text": [
            "Bitte geben Sie Ihren Namen ein\n",
            "Max Mustermann\n",
            "Eingegeben wurde: * Max Mustermann *\n"
          ]
        }
      ]
    },
    {
      "cell_type": "code",
      "source": [
        "zahl = input(\"Bitte gib eine Zahl ein\")"
      ],
      "metadata": {
        "colab": {
          "base_uri": "https://localhost:8080/"
        },
        "id": "lD45JjwPOQ3z",
        "outputId": "5bc55886-ee7f-4580-c1b5-b244f9dee5d8"
      },
      "execution_count": null,
      "outputs": [
        {
          "name": "stdout",
          "output_type": "stream",
          "text": [
            "Bitte gib eine Zahl ein134\n"
          ]
        }
      ]
    },
    {
      "cell_type": "code",
      "source": [
        "print(\"34 Prozent von 70 sind\", 34/70*100)"
      ],
      "metadata": {
        "colab": {
          "base_uri": "https://localhost:8080/"
        },
        "id": "NQpsATrbOiG8",
        "outputId": "07942156-0c68-4e25-fff5-e48b8aed2c55"
      },
      "execution_count": null,
      "outputs": [
        {
          "output_type": "stream",
          "name": "stdout",
          "text": [
            "34 Prozent von 70 sind 48.57142857142857\n"
          ]
        }
      ]
    },
    {
      "cell_type": "code",
      "source": [
        "formatstring = \"{} von {} Punkten erreicht, das sind {:.1%}\"\n",
        "print(formatstring.format(34,70,34/70))"
      ],
      "metadata": {
        "colab": {
          "base_uri": "https://localhost:8080/"
        },
        "id": "_GFBgb5GO6Dt",
        "outputId": "4f4138c4-8b5e-42e5-b32f-49abe1b85307"
      },
      "execution_count": null,
      "outputs": [
        {
          "output_type": "stream",
          "name": "stdout",
          "text": [
            "34 von 70 Punkten erreicht, das sind 48.6%\n"
          ]
        }
      ]
    },
    {
      "cell_type": "code",
      "source": [
        "from datetime import datetime\n",
        "jetzt = datetime.now()\n",
        "print(jetzt)"
      ],
      "metadata": {
        "colab": {
          "base_uri": "https://localhost:8080/"
        },
        "id": "TkXLs7jEPX-c",
        "outputId": "f2bffaee-067f-4eba-d0f4-8306f620f144"
      },
      "execution_count": null,
      "outputs": [
        {
          "output_type": "stream",
          "name": "stdout",
          "text": [
            "2023-11-29 08:43:54.608495\n"
          ]
        }
      ]
    },
    {
      "cell_type": "code",
      "source": [
        "jetzt = datetime.now()\n",
        "formatstring = 'Heute ist der {:%d.%m.%Y}, jetzt ist {:%H:%M} Uhr.'\n",
        "print(formatstring.format(jetzt, jetzt))"
      ],
      "metadata": {
        "colab": {
          "base_uri": "https://localhost:8080/"
        },
        "id": "cU_mlghaP72M",
        "outputId": "1a73cb03-80c6-4bc0-9af1-a5a968bbad7f"
      },
      "execution_count": null,
      "outputs": [
        {
          "output_type": "stream",
          "name": "stdout",
          "text": [
            "Heute ist der 29.11.2023, jetzt ist 08:46 Uhr.\n"
          ]
        }
      ]
    },
    {
      "cell_type": "code",
      "source": [],
      "metadata": {
        "id": "lb85CiHZQc_a"
      },
      "execution_count": null,
      "outputs": []
    }
  ]
}