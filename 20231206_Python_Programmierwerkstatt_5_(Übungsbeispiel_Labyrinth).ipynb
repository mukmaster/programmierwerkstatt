{
  "nbformat": 4,
  "nbformat_minor": 0,
  "metadata": {
    "colab": {
      "provenance": [],
      "authorship_tag": "ABX9TyMfOzET9CdPUokRzZTEWMjz",
      "include_colab_link": true
    },
    "kernelspec": {
      "name": "python3",
      "display_name": "Python 3"
    },
    "language_info": {
      "name": "python"
    }
  },
  "cells": [
    {
      "cell_type": "markdown",
      "metadata": {
        "id": "view-in-github",
        "colab_type": "text"
      },
      "source": [
        "<a href=\"https://colab.research.google.com/github/mukmaster/python23/blob/main/20231206_Python_Programmierwerkstatt_5_(%C3%9Cbungsbeispiel_Labyrinth).ipynb\" target=\"_parent\"><img src=\"https://colab.research.google.com/assets/colab-badge.svg\" alt=\"Open In Colab\"/></a>"
      ]
    },
    {
      "cell_type": "markdown",
      "source": [
        "# Python Labyrinth: Finde einen Weg durch das Labyrinth\n"
      ],
      "metadata": {
        "id": "nFFe4ixeGGe4"
      }
    },
    {
      "cell_type": "code",
      "source": [
        "lab2 = {\n",
        "    \"A\":[\"B\"],\n",
        "    \"B\":[\"C\",\"D\"],\n",
        "    \"C\":[\"E\",\"F\",\"G\"],\n",
        "    \"D\":[\"H\",\"I\"],\n",
        "    \"E\":[],\n",
        "    \"F\":[],\n",
        "    \"G\":[],\n",
        "    \"H\":[],\n",
        "    \"I\":[\"J\",\"K\"],\n",
        "    \"J\":[\"L\",\"M\"],\n",
        "    \"K\":[],\n",
        "    \"L\":[],\n",
        "    \"M\":[]\n",
        "    }"
      ],
      "metadata": {
        "id": "7KP2a_YIGqyi"
      },
      "execution_count": null,
      "outputs": []
    },
    {
      "cell_type": "code",
      "source": [
        "lab2"
      ],
      "metadata": {
        "colab": {
          "base_uri": "https://localhost:8080/"
        },
        "id": "-PVXBJfAGya5",
        "outputId": "1a820223-aa4d-4afc-a5e9-730e95fb2736"
      },
      "execution_count": null,
      "outputs": [
        {
          "output_type": "execute_result",
          "data": {
            "text/plain": [
              "{'A': ['B'],\n",
              " 'B': ['C', 'D'],\n",
              " 'C': ['E', 'F', 'G'],\n",
              " 'D': ['H', 'I'],\n",
              " 'E': [],\n",
              " 'F': [],\n",
              " 'G': [],\n",
              " 'H': [],\n",
              " 'I': ['J', 'K'],\n",
              " 'J': ['L', 'M'],\n",
              " 'K': [],\n",
              " 'L': [],\n",
              " 'M': []}"
            ]
          },
          "metadata": {},
          "execution_count": 3
        }
      ]
    },
    {
      "cell_type": "code",
      "source": [
        "dnf(lab2,\"B\")"
      ],
      "metadata": {
        "colab": {
          "base_uri": "https://localhost:8080/"
        },
        "id": "wpZd_TX0G0K2",
        "outputId": "9b5393e7-52a6-43c2-89ee-609cef9a832c"
      },
      "execution_count": null,
      "outputs": [
        {
          "output_type": "execute_result",
          "data": {
            "text/plain": [
              "{'C', 'D'}"
            ]
          },
          "metadata": {},
          "execution_count": 8
        }
      ]
    },
    {
      "cell_type": "code",
      "execution_count": null,
      "metadata": {
        "id": "j381Z4K5GCzA"
      },
      "outputs": [],
      "source": [
        "# dnf findet die Menge aller direkten Nachfolger von Knoten k\n",
        "def dnf(lab,k):\n",
        "  return set(lab[k])"
      ]
    },
    {
      "cell_type": "code",
      "source": [
        "# nf0 ermittelt die direkten und indirekten Nachfolger und berücksichtigt bereits besuchte Knoten\n",
        "def nf0(lab,start,besucht):\n",
        "  nachbarn = dnf(lab, start)\n",
        "  for knoten in nachbarn:\n",
        "    if not knoten in besucht:\n",
        "      besucht.add(knoten)\n",
        "      nachbarn = nachbarn.union(nf0(lab,knoten,besucht))\n",
        "  return nachbarn"
      ],
      "metadata": {
        "id": "bo3uRZoJHEMA"
      },
      "execution_count": null,
      "outputs": []
    },
    {
      "cell_type": "code",
      "source": [
        "# nf ermittelt alle direkten und indirekten Nachfolger des angegebenen Startknotens\n",
        "def nf(lab,start):\n",
        "  return nf0(lab,start,set({}))\n"
      ],
      "metadata": {
        "id": "7PiqAFDeKYWg"
      },
      "execution_count": null,
      "outputs": []
    },
    {
      "cell_type": "code",
      "source": [
        "# erreichbar liefert true, wenn knoten2 von knoten1 aus erreichbar ist\n",
        "def erreichbar(lab, knoten1, knoten2):\n",
        "  return knoten2 in nf(lab, knoten1)"
      ],
      "metadata": {
        "id": "Z1AOoyvbLyvj"
      },
      "execution_count": null,
      "outputs": []
    },
    {
      "cell_type": "code",
      "source": [
        "# sucht einen Weg von eingang zu ausgang und liefert diesen zurückl\n",
        "def suche(lab,eingang,ausgang):\n",
        "    return suche0(lab,eingang,ausgang,set([]))"
      ],
      "metadata": {
        "id": "Hhml4STZMh8O"
      },
      "execution_count": null,
      "outputs": []
    },
    {
      "cell_type": "code",
      "source": [
        "# Hilfsfunktion mit Buchführung der besuchten Knoten\n",
        "def suche0(lab,eingang,ausgang,besucht):\n",
        "    if eingang==ausgang:\n",
        "        return [ausgang]\n",
        "    nachbarn = dnf(lab, eingang)\n",
        "    if ausgang in nachbarn:\n",
        "        return [eingang,ausgang]\n",
        "    weg = []\n",
        "    for knoten in nachbarn:\n",
        "        if not knoten in besucht:\n",
        "            besucht.add(knoten)\n",
        "            if erreichbar(lab,knoten,ausgang):\n",
        "                weg = [eingang]\n",
        "                weg.extend(suche0(lab,knoten,ausgang,besucht))\n",
        "                return weg\n",
        "    return weg"
      ],
      "metadata": {
        "id": "Z-pzolsJNwmJ"
      },
      "execution_count": null,
      "outputs": []
    },
    {
      "cell_type": "code",
      "source": [
        "suche(lab2, \"A\", \"M\")"
      ],
      "metadata": {
        "colab": {
          "base_uri": "https://localhost:8080/"
        },
        "id": "83wfoAY7P3jh",
        "outputId": "1af8c5be-b0b1-4c2c-c113-caad0b952aed"
      },
      "execution_count": null,
      "outputs": [
        {
          "output_type": "execute_result",
          "data": {
            "text/plain": [
              "['A', 'B', 'D', 'I', 'J', 'M']"
            ]
          },
          "metadata": {},
          "execution_count": 24
        }
      ]
    },
    {
      "cell_type": "code",
      "source": [
        "lab3 = {\n",
        "    \"A\":[\"B\"],\n",
        "    \"B\":[\"C\",\"D\"],\n",
        "    \"C\":[\"E\",\"F\"],\n",
        "    \"D\":[\"G\",\"H\"],\n",
        "    \"E\":[\"I\",\"J\"],\n",
        "    \"F\":[\"J\",\"G\"],\n",
        "    \"G\":[\"F\",\"K\",\"L\"],\n",
        "    \"H\":[\"L\",\"M\"],\n",
        "    \"I\":[],\n",
        "    \"J\":[\"N\"],\n",
        "    \"K\":[],\n",
        "    \"L\":[\"O\",\"P\"],\n",
        "    \"M\":[],\n",
        "    \"N\":[\"Q\"],\n",
        "    \"O\":[\"R\"],\n",
        "    \"P\":[],\n",
        "    \"Q\":[],\n",
        "    \"R\":[]\n",
        "    }"
      ],
      "metadata": {
        "id": "OR7rCj8hP_wM"
      },
      "execution_count": null,
      "outputs": []
    },
    {
      "cell_type": "code",
      "source": [
        "suche(lab3, \"A\",\"R\")"
      ],
      "metadata": {
        "colab": {
          "base_uri": "https://localhost:8080/"
        },
        "id": "g9oowFK6QqUH",
        "outputId": "75e4b0b5-e4bd-4ff4-e6aa-f8f8de6254e1"
      },
      "execution_count": null,
      "outputs": [
        {
          "output_type": "execute_result",
          "data": {
            "text/plain": [
              "['A', 'B', 'C', 'F', 'G', 'L', 'O', 'R']"
            ]
          },
          "metadata": {},
          "execution_count": 26
        }
      ]
    },
    {
      "cell_type": "code",
      "source": [],
      "metadata": {
        "id": "blkIBwXaQ37I"
      },
      "execution_count": null,
      "outputs": []
    }
  ]
}