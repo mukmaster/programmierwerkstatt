{
  "nbformat": 4,
  "nbformat_minor": 0,
  "metadata": {
    "colab": {
      "provenance": [],
      "authorship_tag": "ABX9TyMQJtHl7hqrUeQ1nEE7O9R8",
      "include_colab_link": true
    },
    "kernelspec": {
      "name": "python3",
      "display_name": "Python 3"
    },
    "language_info": {
      "name": "python"
    }
  },
  "cells": [
    {
      "cell_type": "markdown",
      "metadata": {
        "id": "view-in-github",
        "colab_type": "text"
      },
      "source": [
        "<a href=\"https://colab.research.google.com/github/mukmaster/python23/blob/main/20231206_Labyrinthdaten.ipynb\" target=\"_parent\"><img src=\"https://colab.research.google.com/assets/colab-badge.svg\" alt=\"Open In Colab\"/></a>"
      ]
    },
    {
      "cell_type": "code",
      "execution_count": null,
      "metadata": {
        "id": "7LEZLRfI1TaO"
      },
      "outputs": [],
      "source": [
        "# Diese Datei enthält die Dictionary-Objekte für drei Labyrinthe (siehe Übungsblatt 4).\n",
        "# Der Eingang ist stets \"A\". Der Ausgang von lab1 ist \"E\", von lab2 ist es \"M\" und von lab3 ist es \"R\".\n",
        "# Bitte beachten: Während lab1 und lab2 sog. \"klassische Labyrinthe\" sind, handelt es sich bei lab3\n",
        "# um ein \"allgemeines Labyrinth\", in dem man auch \"im Kreis\" laufen und wieder zu einem schon\n",
        "# besuchten Punkt zurück kommen kann.\n",
        "\n",
        "lab1 = {\n",
        "    \"A\":[\"B\"],\n",
        "    \"B\":[\"C\",\"D\"],\n",
        "    \"C\":[],\n",
        "    \"D\":[\"E\"],\n",
        "    \"E\":[]\n",
        "    }\n",
        "\n",
        "lab2 = {\n",
        "    \"A\":[\"B\"],\n",
        "    \"B\":[\"C\",\"D\"],\n",
        "    \"C\":[\"E\",\"F\",\"G\"],\n",
        "    \"D\":[\"H\",\"I\"],\n",
        "    \"E\":[],\n",
        "    \"F\":[],\n",
        "    \"G\":[],\n",
        "    \"H\":[],\n",
        "    \"I\":[\"J\",\"K\"],\n",
        "    \"J\":[\"L\",\"M\"],\n",
        "    \"K\":[],\n",
        "    \"L\":[],\n",
        "    \"M\":[]\n",
        "    }\n",
        "\n",
        "lab3 = {\n",
        "    \"A\":[\"B\"],\n",
        "    \"B\":[\"C\",\"D\"],\n",
        "    \"C\":[\"E\",\"F\"],\n",
        "    \"D\":[\"G\",\"H\"],\n",
        "    \"E\":[\"I\",\"J\"],\n",
        "    \"F\":[\"J\",\"G\"],\n",
        "    \"G\":[\"F\",\"K\",\"L\"],\n",
        "    \"H\":[\"L\",\"M\"],\n",
        "    \"I\":[],\n",
        "    \"J\":[\"N\"],\n",
        "    \"K\":[],\n",
        "    \"L\":[\"O\",\"P\"],\n",
        "    \"M\":[],\n",
        "    \"N\":[\"Q\"],\n",
        "    \"O\":[\"R\"],\n",
        "    \"P\":[],\n",
        "    \"Q\":[],\n",
        "    \"R\":[]\n",
        "    }"
      ]
    }
  ]
}